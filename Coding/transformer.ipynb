{
 "cells": [
  {
   "attachments": {
    "92ac8724-7277-418d-9474-c9b8cb6b1922.png": {
     "image/png": "[encoded data removed]"
    }
   },
   "cell_type": "markdown",
   "metadata": {},
   "source": [
    "### <p style=\"font-family:JetBrains Mono; font-weight:bold; letter-spacing: 2px; color:#006600; font-size:140%; text-align:left;padding: 0px; border-bottom: 3px solid #003300\"> Notebook At a Glance</p>\n",
    "![Screenshot (453).png](attachment:92ac8724-7277-418d-9474-c9b8cb6b1922.png)"
   ]
  },
  {
   "cell_type": "markdown",
   "metadata": {},
   "source": [
    "<div style=\"border-radius:10px; border:#DEB887 solid; padding: 15px; background-color: #FFFAF0; font-size:100%; text-align:left\">\n",
    "\n",
    "<h3 align=\"left\"><font color='#DEB887'>💡 Notes : BERT</font></h3>\n",
    "\n",
    "* BERT (Bidirectional Encoder Representations from Transformers)is a pre-trained deep learning model developed by Google for natural language processing (NLP) tasks\n",
    "\n",
    "* BertTokenizer class is used to convert input text into a sequence of tokens that can be fed into a BERT-based model for further processing."
   ]
  },
  {
   "cell_type": "markdown",
   "metadata": {},
   "source": [
    "<div style=\"border-radius:10px; border:#DEB887 solid; padding: 15px; background-color: #FFFAF0; font-size:100%; text-align:left\">\n",
    "\n",
    "<h3 align=\"left\"><font color='#DEB887'>💡 Notes : TensorDataset</font></h3>\n",
    "\n",
    "* can be used to create a dataset from a set of tensors.\n",
    "\n",
    "* takes one or more tensors as input.\n",
    "    \n",
    "* creates a dataset where each sample is a tuple of corresponding elements from the input tensors."
   ]
  },
  {
   "cell_type": "markdown",
   "metadata": {},
   "source": [
    "<div style=\"border-radius:10px; border:#DEB887 solid; padding: 15px; background-color: #FFFAF0; font-size:100%; text-align:left\">\n",
    "\n",
    "<h3 align=\"left\"><font color='#DEB887'>💡 Notes : DataLoader</font></h3>\n",
    "\n",
    "* loads data from a dataset in batches. \n",
    "\n",
    "* takes a dataset object as input.\n",
    "    \n",
    "* provides an iterator that yields batches of data."
   ]
  },
  {
   "cell_type": "markdown",
   "metadata": {},
   "source": [
    "<div style=\"border-radius:10px; border:#DEB887 solid; padding: 15px; background-color: #FFFAF0; font-size:100%; text-align:left\">\n",
    "\n",
    "<h3 align=\"left\"><font color='#DEB887'>💡 Notes : RandomSampler</font></h3>\n",
    "\n",
    "* randomly samples elements from a dataset. \n",
    "\n",
    "* It is typically used with the DataLoader class to randomly sample batches of data.\n",
    "    "
   ]
  },
  {
   "cell_type": "markdown",
   "metadata": {},
   "source": [
    "<div style=\"border-radius:10px; border:#DEB887 solid; padding: 15px; background-color: #FFFAF0; font-size:100%; text-align:left\">\n",
    "\n",
    "<h3 align=\"left\"><font color='#DEB887'>💡 Notes : SequentialSampler</font></h3>\n",
    "\n",
    "* samples elements from a dataset in sequential order. \n",
    "\n",
    "* It is typically used with the DataLoader class to iterate over the entire dataset in order.\n"
   ]
  },
  {
   "cell_type": "markdown",
   "metadata": {},
   "source": [
    "#### <p style=\"font-family:JetBrains Mono; font-weight:bold; letter-spacing: 2px; color:#006600; font-size:140%; text-align:left;padding: 0px; border-bottom: 3px solid #003300\"> Import libraries</p>"
   ]
  },
  {
   "cell_type": "code",
   "execution_count": 1,
   "metadata": {
    "execution": {
     "iopub.execute_input": "2023-03-23T05:08:52.858865Z",
     "iopub.status.busy": "2023-03-23T05:08:52.858453Z",
     "iopub.status.idle": "2023-03-23T05:09:09.538853Z",
     "shell.execute_reply": "2023-03-23T05:09:09.537392Z",
     "shell.execute_reply.started": "2023-03-23T05:08:52.858827Z"
    }
   },
   "outputs": [],
   "source": [
    "import pandas as pd\n",
    "import numpy as np\n",
    "import warnings\n",
    "warnings.filterwarnings('ignore')\n",
    "from sklearn.metrics import classification_report, confusion_matrix, f1_score, roc_auc_score\n",
    "\n",
    "from sklearn import metrics\n",
    "import matplotlib.pyplot as plt\n",
    "%matplotlib inline\n",
    "\n",
    "import seaborn as sns\n",
    "from transformers import BertTokenizer\n",
    "from tqdm import tqdm\n",
    "from sklearn.model_selection import train_test_split\n",
    "import torch\n",
    "import random\n",
    "import time\n",
    "import datetime\n",
    "\n",
    "from tensorflow.keras.preprocessing.sequence import pad_sequences\n",
    "\n",
    "from torch.utils.data import Dataset, TensorDataset, DataLoader, RandomSampler, SequentialSampler\n",
    "from transformers import BertForSequenceClassification, AdamW\n",
    "from transformers import get_linear_schedule_with_warmup"
   ]
  },
  {
   "cell_type": "markdown",
   "metadata": {},
   "source": [
    "#### <p style=\"font-family:JetBrains Mono; font-weight:bold; letter-spacing: 2px; color:#006600; font-size:140%; text-align:left;padding: 0px; border-bottom: 3px solid #003300\">  Data load and data preprocessing</p>"
   ]
  },
  {
   "cell_type": "markdown",
   "metadata": {},
   "source": [
    "<div style=\"border-radius:10px; border:#DEB887 solid; padding: 15px; background-color: #FFFAF0; font-size:100%; text-align:left\">\n",
    "\n",
    "<h3 align=\"left\"><font color='#DEB887'>💡 Notes:</font></h3>\n",
    "\n",
    "* Combind fake and real news by using concat methods.\n",
    "\n",
    "* Confusion of indices is resolved using rest_index method.\n",
    "    \n",
    "* Missing value is checked using isnull method.\n",
    "\n",
    "    "
   ]
  },
  {
   "cell_type": "code",
   "execution_count": 2,
   "metadata": {
    "execution": {
     "iopub.execute_input": "2023-03-22T04:25:49.134952Z",
     "iopub.status.busy": "2023-03-22T04:25:49.134587Z",
     "iopub.status.idle": "2023-03-22T04:25:52.152437Z",
     "shell.execute_reply": "2023-03-22T04:25:52.151365Z",
     "shell.execute_reply.started": "2023-03-22T04:25:49.134910Z"
    }
   },
   "outputs": [],
   "source": [
    "df_fake = pd.read_csv(\"/kaggle/input/true-fake-news-dataset/Fake_True/Fake.csv\")\n",
    "df_real = pd.read_csv(\"/kaggle/input/true-fake-news-dataset/Fake_True/True.csv\")\n",
    "\n",
    "df_fake[\"category\"] = 1\n",
    "df_real[\"category\"] = 0\n",
    "\n",
    "df = pd.concat([df_fake, df_real])"
   ]
  },
  {
   "cell_type": "code",
   "execution_count": 3,
   "metadata": {
    "execution": {
     "iopub.execute_input": "2023-03-22T04:25:52.154683Z",
     "iopub.status.busy": "2023-03-22T04:25:52.154280Z",
     "iopub.status.idle": "2023-03-22T04:25:52.164108Z",
     "shell.execute_reply": "2023-03-22T04:25:52.162979Z",
     "shell.execute_reply.started": "2023-03-22T04:25:52.154643Z"
    }
   },
   "outputs": [],
   "source": [
    "df = df.reset_index(drop=True)"
   ]
  },
  {
   "cell_type": "code",
   "execution_count": 4,
   "metadata": {
    "execution": {
     "iopub.execute_input": "2023-03-22T04:25:52.168274Z",
     "iopub.status.busy": "2023-03-22T04:25:52.167108Z",
     "iopub.status.idle": "2023-03-22T04:25:52.187288Z",
     "shell.execute_reply": "2023-03-22T04:25:52.186059Z",
     "shell.execute_reply.started": "2023-03-22T04:25:52.168236Z"
    }
   },
   "outputs": [
    {
     "data": {
      "text/plain": [
       "title       0\n",
       "text        0\n",
       "subject     0\n",
       "date        0\n",
       "category    0\n",
       "dtype: int64"
      ]
     },
     "execution_count": 4,
     "metadata": {},
     "output_type": "execute_result"
    }
   ],
   "source": [
    "df.isnull().sum()"
   ]
  },
  {
   "cell_type": "code",
   "execution_count": 5,
   "metadata": {
    "execution": {
     "iopub.execute_input": "2023-03-22T04:25:52.190408Z",
     "iopub.status.busy": "2023-03-22T04:25:52.189150Z",
     "iopub.status.idle": "2023-03-22T04:25:52.208343Z",
     "shell.execute_reply": "2023-03-22T04:25:52.207356Z",
     "shell.execute_reply.started": "2023-03-22T04:25:52.190360Z"
    }
   },
   "outputs": [
    {
     "data": {
      "text/plain": [
       "0"
      ]
     },
     "execution_count": 5,
     "metadata": {},
     "output_type": "execute_result"
    }
   ],
   "source": [
    "df.isnull().sum().sum()"
   ]
  },
  {
   "cell_type": "markdown",
   "metadata": {},
   "source": [
    "#### <p style=\"font-family:JetBrains Mono; font-weight:bold; letter-spacing: 2px; color:#006600; font-size:140%; text-align:left;padding: 0px; border-bottom: 3px solid #003300\">  Loading BertTokenizer</p>"
   ]
  },
  {
   "cell_type": "markdown",
   "metadata": {},
   "source": [
    "<div style=\"border-radius:10px; border:#DEB887 solid; padding: 15px; background-color: #FFFAF0; font-size:100%; text-align:left\">\n",
    "\n",
    "<h3 align=\"left\"><font color='#DEB887'>💡 Notes:</font></h3>\n",
    "\n",
    "* Pre-trained BERT tokenizer is loaded from the Hugging Face Transformers library using from_pretrained method.\n",
    "\n",
    "* bert-base-uncased tokenizer, a BERT model, has been pre-trained on a large corpus of uncased English text.\n",
    "    \n",
    "* Since bert-base-uncased model was trained on uncased text, all input text is lowercased setting do_lower_case = True, so that any not lowercased input text  will be treated as out-of-vocabulary (OOV) tokens by the tokenizer"
   ]
  },
  {
   "cell_type": "code",
   "execution_count": 7,
   "metadata": {
    "execution": {
     "iopub.execute_input": "2023-03-22T04:25:52.460156Z",
     "iopub.status.busy": "2023-03-22T04:25:52.459809Z",
     "iopub.status.idle": "2023-03-22T04:25:53.777234Z",
     "shell.execute_reply": "2023-03-22T04:25:53.776250Z",
     "shell.execute_reply.started": "2023-03-22T04:25:52.460120Z"
    }
   },
   "outputs": [
    {
     "name": "stdout",
     "output_type": "stream",
     "text": [
      "Loading BertTokenizer...\n"
     ]
    },
    {
     "data": {
      "application/vnd.jupyter.widget-view+json": {
       "model_id": "baee4d6bb6214c5fb88c3ebb46f3de9b",
       "version_major": 2,
       "version_minor": 0
      },
      "text/plain": [
       "Downloading (…)solve/main/vocab.txt:   0%|          | 0.00/232k [00:00<?, ?B/s]"
      ]
     },
     "metadata": {},
     "output_type": "display_data"
    },
    {
     "data": {
      "application/vnd.jupyter.widget-view+json": {
       "model_id": "533e2f2755804c9e9273f89efc01df82",
       "version_major": 2,
       "version_minor": 0
      },
      "text/plain": [
       "Downloading (…)okenizer_config.json:   0%|          | 0.00/28.0 [00:00<?, ?B/s]"
      ]
     },
     "metadata": {},
     "output_type": "display_data"
    },
    {
     "data": {
      "application/vnd.jupyter.widget-view+json": {
       "model_id": "ce60cc3ef37a41ffb4252858da4bcdcb",
       "version_major": 2,
       "version_minor": 0
      },
      "text/plain": [
       "Downloading (…)lve/main/config.json:   0%|          | 0.00/570 [00:00<?, ?B/s]"
      ]
     },
     "metadata": {},
     "output_type": "display_data"
    }
   ],
   "source": [
    "#importing the Bert and loading BertTokenizer\n",
    "print(\"Loading BertTokenizer...\")\n",
    "tokenizer = BertTokenizer.from_pretrained('bert-base-uncased', do_lower_case=True)"
   ]
  },
  {
   "cell_type": "code",
   "execution_count": 8,
   "metadata": {
    "execution": {
     "iopub.execute_input": "2023-03-22T04:25:53.779742Z",
     "iopub.status.busy": "2023-03-22T04:25:53.779333Z",
     "iopub.status.idle": "2023-03-22T04:25:53.793212Z",
     "shell.execute_reply": "2023-03-22T04:25:53.792165Z",
     "shell.execute_reply.started": "2023-03-22T04:25:53.779701Z"
    }
   },
   "outputs": [],
   "source": [
    "df_update = df.drop('category', axis=1)\n",
    "y = df.category"
   ]
  },
  {
   "cell_type": "code",
   "execution_count": 9,
   "metadata": {
    "execution": {
     "iopub.execute_input": "2023-03-22T04:25:53.795545Z",
     "iopub.status.busy": "2023-03-22T04:25:53.795100Z",
     "iopub.status.idle": "2023-03-22T04:25:53.806039Z",
     "shell.execute_reply": "2023-03-22T04:25:53.804858Z",
     "shell.execute_reply.started": "2023-03-22T04:25:53.795505Z"
    }
   },
   "outputs": [
    {
     "data": {
      "text/plain": [
       "1    23481\n",
       "0    21417\n",
       "Name: category, dtype: int64"
      ]
     },
     "execution_count": 9,
     "metadata": {},
     "output_type": "execute_result"
    }
   ],
   "source": [
    "y.value_counts()"
   ]
  },
  {
   "cell_type": "code",
   "execution_count": 10,
   "metadata": {
    "execution": {
     "iopub.execute_input": "2023-03-22T04:25:53.812209Z",
     "iopub.status.busy": "2023-03-22T04:25:53.811874Z",
     "iopub.status.idle": "2023-03-22T04:25:53.840330Z",
     "shell.execute_reply": "2023-03-22T04:25:53.839417Z",
     "shell.execute_reply.started": "2023-03-22T04:25:53.812181Z"
    }
   },
   "outputs": [],
   "source": [
    "df_train, df_test, y_train, y_test = train_test_split(df_update, y, random_state=42, test_size=0.20, stratify = y)"
   ]
  },
  {
   "cell_type": "code",
   "execution_count": 11,
   "metadata": {
    "execution": {
     "iopub.execute_input": "2023-03-22T04:25:53.843695Z",
     "iopub.status.busy": "2023-03-22T04:25:53.843425Z",
     "iopub.status.idle": "2023-03-22T04:25:53.854869Z",
     "shell.execute_reply": "2023-03-22T04:25:53.853798Z",
     "shell.execute_reply.started": "2023-03-22T04:25:53.843670Z"
    }
   },
   "outputs": [
    {
     "data": {
      "text/plain": [
       "36928    0\n",
       "30548    0\n",
       "37469    0\n",
       "9447     1\n",
       "24880    0\n",
       "        ..\n",
       "34145    0\n",
       "34233    0\n",
       "26021    0\n",
       "39705    0\n",
       "1255     1\n",
       "Name: category, Length: 35918, dtype: int64"
      ]
     },
     "execution_count": 11,
     "metadata": {},
     "output_type": "execute_result"
    }
   ],
   "source": [
    "y_train"
   ]
  },
  {
   "cell_type": "code",
   "execution_count": 12,
   "metadata": {
    "execution": {
     "iopub.execute_input": "2023-03-22T04:25:53.857115Z",
     "iopub.status.busy": "2023-03-22T04:25:53.856432Z",
     "iopub.status.idle": "2023-03-22T04:25:53.863808Z",
     "shell.execute_reply": "2023-03-22T04:25:53.862545Z",
     "shell.execute_reply.started": "2023-03-22T04:25:53.857079Z"
    }
   },
   "outputs": [],
   "source": [
    "df_train['final'] = df_train['title']"
   ]
  },
  {
   "cell_type": "code",
   "execution_count": 13,
   "metadata": {
    "execution": {
     "iopub.execute_input": "2023-03-22T04:25:53.866191Z",
     "iopub.status.busy": "2023-03-22T04:25:53.865490Z",
     "iopub.status.idle": "2023-03-22T04:25:53.874955Z",
     "shell.execute_reply": "2023-03-22T04:25:53.873841Z",
     "shell.execute_reply.started": "2023-03-22T04:25:53.866155Z"
    }
   },
   "outputs": [],
   "source": [
    "statements = df_train['final']"
   ]
  },
  {
   "cell_type": "code",
   "execution_count": 14,
   "metadata": {
    "execution": {
     "iopub.execute_input": "2023-03-22T04:25:53.878893Z",
     "iopub.status.busy": "2023-03-22T04:25:53.878371Z",
     "iopub.status.idle": "2023-03-22T04:25:53.885337Z",
     "shell.execute_reply": "2023-03-22T04:25:53.884443Z",
     "shell.execute_reply.started": "2023-03-22T04:25:53.878864Z"
    }
   },
   "outputs": [],
   "source": [
    "bert_input_ids = []\n",
    "bert_attention_masks = []\n",
    "roberta_input_ids = []\n",
    "roberta_attention_masks = []\n",
    "sentence_ids = []\n",
    "counter = 0"
   ]
  },
  {
   "cell_type": "markdown",
   "metadata": {},
   "source": [
    "<div style=\"border-radius:10px; border:#DEB887 solid; padding: 15px; background-color: #FFFAF0; font-size:100%; text-align:left\">\n",
    "\n",
    "<h3 align=\"left\"><font color='#DEB887'>💡 Notes : encode_plus</font></h3>\n",
    "\n",
    "* It is used to encode a sentence or a sequence of sentences into BERT input features\n",
    "\n",
    "* Special [CLS] and [SEP] tokens are added to the input sentence using add_special_tokens=True argument\n",
    "\n",
    "* maximum length of the input sentence after padding and truncation is specified to 120 using max_length=120 argument\n",
    "    \n",
    "* input sentence is padded to a length of max_length using the [PAD] token by setting pad_to_max_length=True argument\n",
    "    \n",
    "* attention mask is constructed for the input sentence by setting return_attention_mask=True argument\n",
    "    \n",
    "* BERT input features are returned as PyTorch tensor by setting return_tensors='pt' argument"
   ]
  },
  {
   "cell_type": "code",
   "execution_count": 15,
   "metadata": {
    "_kg_hide-output": true,
    "execution": {
     "iopub.execute_input": "2023-03-22T04:25:53.887553Z",
     "iopub.status.busy": "2023-03-22T04:25:53.886931Z",
     "iopub.status.idle": "2023-03-22T04:26:18.341330Z",
     "shell.execute_reply": "2023-03-22T04:26:18.340194Z",
     "shell.execute_reply.started": "2023-03-22T04:25:53.887517Z"
    }
   },
   "outputs": [
    {
     "name": "stderr",
     "output_type": "stream",
     "text": [
      "Truncation was not explicitly activated but `max_length` is provided a specific value, please use `truncation=True` to explicitly truncate examples to max length. Defaulting to 'longest_first' truncation strategy. If you encode pairs of sequences (GLUE-style) with the tokenizer you can select this strategy more precisely by providing a specific strategy to `truncation`.\n"
     ]
    }
   ],
   "source": [
    "# For every sentence ...\n",
    "for sent in statements:\n",
    "    bert_encoded_dict = tokenizer.encode_plus(\n",
    "                        sent, #Sentence to encode\n",
    "                        add_special_tokens = True, # Add `[CLS]` and `[SEP]`\n",
    "                        max_length = 120, # Pad and Truncate all sentences\n",
    "                        pad_to_max_length = True,\n",
    "                        return_attention_mask = True, # Construct Attention Masks\n",
    "                        return_tensors = 'pt' # Return PyTorch Tensor\n",
    "                        )\n",
    "    bert_input_ids.append(bert_encoded_dict['input_ids'])\n",
    "    bert_attention_masks.append(bert_encoded_dict['attention_mask'])\n",
    "    sentence_ids.append(counter)\n",
    "    counter = counter + 1"
   ]
  },
  {
   "cell_type": "markdown",
   "metadata": {},
   "source": [
    "<div style=\"border-radius:10px; border:#DEB887 solid; padding: 15px; background-color: #FFFAF0; font-size:100%; text-align:left\">\n",
    "\n",
    "<h3 align=\"left\"><font color='#DEB887'>💡 Notes:</font></h3>\n",
    "\n",
    "* BERT model requires the input features and attention masks to be of the same shape, so BERT input features and attention masks are concatenated along the 0th dimension, creating a single tensor for each\n"
   ]
  },
  {
   "cell_type": "code",
   "execution_count": 16,
   "metadata": {
    "execution": {
     "iopub.execute_input": "2023-03-22T04:26:18.343525Z",
     "iopub.status.busy": "2023-03-22T04:26:18.342810Z",
     "iopub.status.idle": "2023-03-22T04:26:18.544674Z",
     "shell.execute_reply": "2023-03-22T04:26:18.543450Z",
     "shell.execute_reply.started": "2023-03-22T04:26:18.343480Z"
    }
   },
   "outputs": [],
   "source": [
    "bert_input_ids = torch.cat(bert_input_ids, dim = 0)\n",
    "bert_attention_masks = torch.cat(bert_attention_masks, dim = 0)\n",
    "labels = torch.tensor(y_train.values)\n",
    "sentence_ids = torch.tensor(sentence_ids)"
   ]
  },
  {
   "cell_type": "code",
   "execution_count": 17,
   "metadata": {
    "execution": {
     "iopub.execute_input": "2023-03-22T04:26:18.546691Z",
     "iopub.status.busy": "2023-03-22T04:26:18.546164Z",
     "iopub.status.idle": "2023-03-22T04:26:18.570996Z",
     "shell.execute_reply": "2023-03-22T04:26:18.569860Z",
     "shell.execute_reply.started": "2023-03-22T04:26:18.546648Z"
    }
   },
   "outputs": [
    {
     "name": "stdout",
     "output_type": "stream",
     "text": [
      "tensor([[  101,  2605, 18675,  ...,     0,     0,     0],\n",
      "        [  101,  8398,  7906,  ...,     0,     0,     0],\n",
      "        [  101,  3163,  1005,  ...,     0,     0,     0],\n",
      "        ...,\n",
      "        [  101,  4254,  1997,  ...,     0,     0,     0],\n",
      "        [  101,  1057,  1012,  ...,     0,     0,     0],\n",
      "        [  101,  8398,  6017,  ...,     0,     0,     0]])\n",
      "\n",
      "\n",
      "tensor([[1, 1, 1,  ..., 0, 0, 0],\n",
      "        [1, 1, 1,  ..., 0, 0, 0],\n",
      "        [1, 1, 1,  ..., 0, 0, 0],\n",
      "        ...,\n",
      "        [1, 1, 1,  ..., 0, 0, 0],\n",
      "        [1, 1, 1,  ..., 0, 0, 0],\n",
      "        [1, 1, 1,  ..., 0, 0, 0]])\n",
      "\n",
      "\n",
      "tensor([    0,     1,     2,  ..., 35915, 35916, 35917])\n",
      "\n",
      "\n"
     ]
    }
   ],
   "source": [
    "print(bert_input_ids)\n",
    "print(\"\\n\")\n",
    "print(bert_attention_masks)\n",
    "print(\"\\n\")\n",
    "print(sentence_ids)\n",
    "print(\"\\n\")"
   ]
  },
  {
   "cell_type": "code",
   "execution_count": 18,
   "metadata": {
    "execution": {
     "iopub.execute_input": "2023-03-22T04:26:18.573156Z",
     "iopub.status.busy": "2023-03-22T04:26:18.572536Z",
     "iopub.status.idle": "2023-03-22T04:26:18.579468Z",
     "shell.execute_reply": "2023-03-22T04:26:18.578243Z",
     "shell.execute_reply.started": "2023-03-22T04:26:18.573117Z"
    }
   },
   "outputs": [
    {
     "name": "stdout",
     "output_type": "stream",
     "text": [
      "torch.Size([35918, 120])\n",
      "torch.Size([35918, 120])\n",
      "torch.Size([35918])\n"
     ]
    }
   ],
   "source": [
    "print(bert_input_ids.shape)\n",
    "print(bert_attention_masks.shape)\n",
    "print(labels.shape)\n"
   ]
  },
  {
   "cell_type": "code",
   "execution_count": 19,
   "metadata": {
    "execution": {
     "iopub.execute_input": "2023-03-22T04:26:18.581959Z",
     "iopub.status.busy": "2023-03-22T04:26:18.581138Z",
     "iopub.status.idle": "2023-03-22T04:26:18.588040Z",
     "shell.execute_reply": "2023-03-22T04:26:18.586790Z",
     "shell.execute_reply.started": "2023-03-22T04:26:18.581921Z"
    }
   },
   "outputs": [],
   "source": [
    "bert_dataset = TensorDataset(bert_input_ids, bert_attention_masks, labels)"
   ]
  },
  {
   "cell_type": "code",
   "execution_count": 20,
   "metadata": {
    "execution": {
     "iopub.execute_input": "2023-03-22T04:26:18.590670Z",
     "iopub.status.busy": "2023-03-22T04:26:18.589893Z",
     "iopub.status.idle": "2023-03-22T04:26:18.600085Z",
     "shell.execute_reply": "2023-03-22T04:26:18.598820Z",
     "shell.execute_reply.started": "2023-03-22T04:26:18.590632Z"
    }
   },
   "outputs": [
    {
     "name": "stdout",
     "output_type": "stream",
     "text": [
      "<torch.utils.data.dataset.TensorDataset object at 0x7f99588baf10>\n"
     ]
    }
   ],
   "source": [
    "print(bert_dataset)"
   ]
  },
  {
   "cell_type": "code",
   "execution_count": 21,
   "metadata": {
    "execution": {
     "iopub.execute_input": "2023-03-22T04:26:18.601699Z",
     "iopub.status.busy": "2023-03-22T04:26:18.601416Z",
     "iopub.status.idle": "2023-03-22T04:26:18.611665Z",
     "shell.execute_reply": "2023-03-22T04:26:18.610468Z",
     "shell.execute_reply.started": "2023-03-22T04:26:18.601674Z"
    }
   },
   "outputs": [
    {
     "data": {
      "text/plain": [
       "35918"
      ]
     },
     "execution_count": 21,
     "metadata": {},
     "output_type": "execute_result"
    }
   ],
   "source": [
    "len(bert_dataset)"
   ]
  },
  {
   "cell_type": "code",
   "execution_count": 22,
   "metadata": {
    "execution": {
     "iopub.execute_input": "2023-03-22T04:26:18.614089Z",
     "iopub.status.busy": "2023-03-22T04:26:18.613407Z",
     "iopub.status.idle": "2023-03-22T04:26:18.626831Z",
     "shell.execute_reply": "2023-03-22T04:26:18.625714Z",
     "shell.execute_reply.started": "2023-03-22T04:26:18.614053Z"
    }
   },
   "outputs": [],
   "source": [
    "train_size = int(0.8 * len(bert_dataset))\n",
    "val_size = len(bert_dataset) - train_size\n",
    "\n",
    "# Dvide the dataset by randomly selecting samples\n",
    "bert_train_dataset, bert_val_dataset = torch.utils.data.random_split(bert_dataset, [train_size, val_size])"
   ]
  },
  {
   "cell_type": "code",
   "execution_count": 23,
   "metadata": {
    "execution": {
     "iopub.execute_input": "2023-03-22T04:26:18.629079Z",
     "iopub.status.busy": "2023-03-22T04:26:18.628424Z",
     "iopub.status.idle": "2023-03-22T04:26:18.635586Z",
     "shell.execute_reply": "2023-03-22T04:26:18.634362Z",
     "shell.execute_reply.started": "2023-03-22T04:26:18.629042Z"
    }
   },
   "outputs": [
    {
     "data": {
      "text/plain": [
       "7184"
      ]
     },
     "execution_count": 23,
     "metadata": {},
     "output_type": "execute_result"
    }
   ],
   "source": [
    "val_size"
   ]
  },
  {
   "cell_type": "code",
   "execution_count": 24,
   "metadata": {
    "execution": {
     "iopub.execute_input": "2023-03-22T04:26:18.638103Z",
     "iopub.status.busy": "2023-03-22T04:26:18.637267Z",
     "iopub.status.idle": "2023-03-22T04:26:18.645091Z",
     "shell.execute_reply": "2023-03-22T04:26:18.644062Z",
     "shell.execute_reply.started": "2023-03-22T04:26:18.638064Z"
    }
   },
   "outputs": [],
   "source": [
    "batch_size = 7\n",
    "\n",
    "bert_train_dataloader = DataLoader(\n",
    "                        bert_train_dataset, # The training samples\n",
    "                        sampler = RandomSampler(bert_train_dataset), # Select batches randomly\n",
    "                        batch_size = batch_size # Trains with this batch size\n",
    "                    )\n",
    "\n",
    "# For validation the order doesn't matter, so we'll just read them sequentially\n",
    "bert_validation_dataloader = DataLoader(\n",
    "                        bert_val_dataset, # The validation samples\n",
    "                        sampler = SequentialSampler(bert_val_dataset), # Pull out batches sequentially\n",
    "                        batch_size = batch_size # Trains with this batch size\n",
    "                    )"
   ]
  },
  {
   "cell_type": "markdown",
   "metadata": {},
   "source": [
    "<div style=\"border-radius:10px; border:#DEB887 solid; padding: 15px; background-color: #FFFAF0; font-size:100%; text-align:left\">\n",
    "\n",
    "<h3 align=\"left\"><font color='#DEB887'>💡 Notes : BertForSequenceClassification</font></h3>\n",
    "\n",
    "* It has been fine-tuned for sequence classification tasks.\n",
    "\n",
    "* BertForSequenceClassification model is created from the pre-trained bert-base-uncased model. This is a 12-layer BERT model with an uncased vocabulary. \n",
    "\n",
    "* The num_labels parameter is set to 2, indicating that the model will be used for binary classification\n",
    "    \n",
    "* output_attentions and output_hidden_states are set to false, indicates, the model will not return the attention weights and the hidden states"
   ]
  },
  {
   "cell_type": "code",
   "execution_count": 25,
   "metadata": {
    "_kg_hide-output": true,
    "execution": {
     "iopub.execute_input": "2023-03-22T04:26:18.648398Z",
     "iopub.status.busy": "2023-03-22T04:26:18.647965Z",
     "iopub.status.idle": "2023-03-22T04:26:27.031197Z",
     "shell.execute_reply": "2023-03-22T04:26:27.030257Z",
     "shell.execute_reply.started": "2023-03-22T04:26:18.648353Z"
    }
   },
   "outputs": [
    {
     "data": {
      "application/vnd.jupyter.widget-view+json": {
       "model_id": "8f6d1f1f233647799c5a4aa634154076",
       "version_major": 2,
       "version_minor": 0
      },
      "text/plain": [
       "Downloading (…)\"pytorch_model.bin\";:   0%|          | 0.00/440M [00:00<?, ?B/s]"
      ]
     },
     "metadata": {},
     "output_type": "display_data"
    },
    {
     "name": "stderr",
     "output_type": "stream",
     "text": [
      "Some weights of the model checkpoint at bert-base-uncased were not used when initializing BertForSequenceClassification: ['cls.predictions.bias', 'cls.seq_relationship.weight', 'cls.seq_relationship.bias', 'cls.predictions.decoder.weight', 'cls.predictions.transform.LayerNorm.bias', 'cls.predictions.transform.LayerNorm.weight', 'cls.predictions.transform.dense.bias', 'cls.predictions.transform.dense.weight']\n",
      "- This IS expected if you are initializing BertForSequenceClassification from the checkpoint of a model trained on another task or with another architecture (e.g. initializing a BertForSequenceClassification model from a BertForPreTraining model).\n",
      "- This IS NOT expected if you are initializing BertForSequenceClassification from the checkpoint of a model that you expect to be exactly identical (initializing a BertForSequenceClassification model from a BertForSequenceClassification model).\n",
      "Some weights of BertForSequenceClassification were not initialized from the model checkpoint at bert-base-uncased and are newly initialized: ['classifier.weight', 'classifier.bias']\n",
      "You should probably TRAIN this model on a down-stream task to be able to use it for predictions and inference.\n"
     ]
    }
   ],
   "source": [
    "# Load BertForSequenceClassification, the pretrained BERT model with a single\n",
    "# linear classification layer on top\n",
    "\n",
    "model = BertForSequenceClassification.from_pretrained(\n",
    "        \"bert-base-uncased\", \n",
    "        num_labels = 2,                 \n",
    "        output_attentions = False, \n",
    "        output_hidden_states = False, \n",
    ")"
   ]
  },
  {
   "cell_type": "markdown",
   "metadata": {},
   "source": [
    "<div style=\"border-radius:10px; border:#DEB887 solid; padding: 15px; background-color: #FFFAF0; font-size:100%; text-align:left\">\n",
    "\n",
    "<h3 align=\"left\"><font color='#DEB887'>💡 Notes : AdamW </font></h3>\n",
    "\n",
    "* It is a variant of the Adam optimizer.\n",
    "\n",
    "* It is a popular choice for fine-tuning BERT models, includes weight decay as a regularization technique to prevent overfitting. "
   ]
  },
  {
   "cell_type": "code",
   "execution_count": 26,
   "metadata": {
    "execution": {
     "iopub.execute_input": "2023-03-22T04:26:27.033346Z",
     "iopub.status.busy": "2023-03-22T04:26:27.032948Z",
     "iopub.status.idle": "2023-03-22T04:26:27.045940Z",
     "shell.execute_reply": "2023-03-22T04:26:27.043646Z",
     "shell.execute_reply.started": "2023-03-22T04:26:27.033289Z"
    }
   },
   "outputs": [],
   "source": [
    "bert_optimizer = AdamW(model.parameters(),\n",
    "                      lr =  2e-5, # args.learning_rate - default is 5e-5\n",
    "                      eps = 1e-8  # args.adam_epsilon  - default is 1e-8\n",
    "                      )"
   ]
  },
  {
   "cell_type": "markdown",
   "metadata": {},
   "source": [
    "<div style=\"border-radius:10px; border:#DEB887 solid; padding: 15px; background-color: #FFFAF0; font-size:100%; text-align:left\">\n",
    "\n",
    "<h3 align=\"left\"><font color='#DEB887'>💡 Notes : get_linear_schedule_with_warmup() </font></h3>\n",
    "\n",
    "* It creates a linear schedule with a warmup period, a common strategy for fine-tuning BERT models.\n",
    "\n",
    "* During the warmup period, the learning rate is gradually increased from a small value to the initial learning rate specified by the user. This helps to prevent the model from getting stuck in local minima during the early stages of training.\n",
    "    \n",
    "* After the warmup period, the learning rate is decreased linearly until it reaches a very small value. This helps to prevent the model from overfitting to the training data."
   ]
  },
  {
   "cell_type": "code",
   "execution_count": 27,
   "metadata": {
    "execution": {
     "iopub.execute_input": "2023-03-22T04:26:27.047889Z",
     "iopub.status.busy": "2023-03-22T04:26:27.047528Z",
     "iopub.status.idle": "2023-03-22T04:26:27.136846Z",
     "shell.execute_reply": "2023-03-22T04:26:27.135763Z",
     "shell.execute_reply.started": "2023-03-22T04:26:27.047852Z"
    }
   },
   "outputs": [],
   "source": [
    "# Number of training epochs. The BERT authors recommend between 2 and 4.\n",
    "# We choose to run for 1, due to lack of GPU\n",
    "\n",
    "epochs = 1\n",
    "\n",
    "# Total no of training step is [number of batches] × [number of epochs]\n",
    "# Note that this is not the same as the number of training samples\n",
    "\n",
    "total_steps = len(bert_train_dataloader) * epochs\n",
    "\n",
    "# Create the learning rate scheduler\n",
    "bert_scheduler = get_linear_schedule_with_warmup(bert_optimizer, \n",
    "                                            num_warmup_steps = 0, # Default value in run_glue.py\n",
    "                                            num_training_steps = total_steps)"
   ]
  },
  {
   "cell_type": "code",
   "execution_count": 28,
   "metadata": {
    "execution": {
     "iopub.execute_input": "2023-03-22T04:26:27.144863Z",
     "iopub.status.busy": "2023-03-22T04:26:27.144548Z",
     "iopub.status.idle": "2023-03-22T04:26:27.151072Z",
     "shell.execute_reply": "2023-03-22T04:26:27.149873Z",
     "shell.execute_reply.started": "2023-03-22T04:26:27.144835Z"
    }
   },
   "outputs": [],
   "source": [
    "# Function to calculate the accuracy of our predictions vs labels\n",
    "def flat_accuracy(preds, labels):\n",
    "    pred_flat = np.argmax(preds, axis=1).flatten()\n",
    "    labels_flat = labels.flatten()\n",
    "    return np.sum(pred_flat == labels_flat) / len(labels_flat)"
   ]
  },
  {
   "cell_type": "code",
   "execution_count": 29,
   "metadata": {
    "execution": {
     "iopub.execute_input": "2023-03-22T04:26:27.153514Z",
     "iopub.status.busy": "2023-03-22T04:26:27.153049Z",
     "iopub.status.idle": "2023-03-22T04:26:27.161099Z",
     "shell.execute_reply": "2023-03-22T04:26:27.160190Z",
     "shell.execute_reply.started": "2023-03-22T04:26:27.153477Z"
    }
   },
   "outputs": [],
   "source": [
    "def format_time(elapsed):\n",
    "    '''\n",
    "    Takes a time in seconds and returns a string hh:mm:ss\n",
    "    '''\n",
    "    # Round to the nearest second\n",
    "    elapsed_rounded = int(round((elapsed)))\n",
    "    \n",
    "    # Format as hh:mm:ss\n",
    "    return str(datetime.timedelta(seconds=elapsed_rounded))"
   ]
  },
  {
   "cell_type": "markdown",
   "metadata": {},
   "source": [
    "<div style=\"border-radius:10px; border:#DEB887 solid; padding: 15px; background-color: #FFFAF0; font-size:100%; text-align:left\">\n",
    "\n",
    "<h3 align=\"left\"><font color='#DEB887'>💡 Notes : </font></h3>\n",
    "\n",
    "* The logits tensor is detached from the computation graph and converted to a regular NumPy array using The detach() method. \n",
    "    \n",
    "* The detach() method is used because we don't want to backpropagate through the logits when computing gradients and updating model weights.\n",
    "    \n",
    "* During each evaluation step, the loss is computed for the batch and added to the eval_loss variable using the item() method, which retrieves the scalar value of the loss tensor."
   ]
  },
  {
   "cell_type": "markdown",
   "metadata": {},
   "source": [
    "#### <p style=\"font-family:JetBrains Mono; font-weight:bold; letter-spacing: 2px; color:#006600; font-size:140%; text-align:left;padding: 0px; border-bottom: 3px solid #003300\"> Training the Model </p>"
   ]
  },
  {
   "cell_type": "code",
   "execution_count": 30,
   "metadata": {
    "_kg_hide-output": true,
    "execution": {
     "iopub.execute_input": "2023-03-22T04:26:27.163445Z",
     "iopub.status.busy": "2023-03-22T04:26:27.162961Z",
     "iopub.status.idle": "2023-03-22T10:33:24.806281Z",
     "shell.execute_reply": "2023-03-22T10:33:24.805040Z",
     "shell.execute_reply.started": "2023-03-22T04:26:27.163408Z"
    }
   },
   "outputs": [
    {
     "name": "stdout",
     "output_type": "stream",
     "text": [
      "\n",
      "=======Epoch 1 / 1=======\n",
      "Training...\n",
      " Batch   100 of 4,105.  Elapsed: 0:08:44.\n",
      " Batch   200 of 4,105.  Elapsed: 0:17:18.\n",
      " Batch   300 of 4,105.  Elapsed: 0:25:44.\n",
      " Batch   400 of 4,105.  Elapsed: 0:34:09.\n",
      " Batch   500 of 4,105.  Elapsed: 0:42:35.\n",
      " Batch   600 of 4,105.  Elapsed: 0:51:04.\n",
      " Batch   700 of 4,105.  Elapsed: 0:59:34.\n",
      " Batch   800 of 4,105.  Elapsed: 1:07:59.\n",
      " Batch   900 of 4,105.  Elapsed: 1:16:26.\n",
      " Batch 1,000 of 4,105.  Elapsed: 1:24:50.\n",
      " Batch 1,100 of 4,105.  Elapsed: 1:33:18.\n",
      " Batch 1,200 of 4,105.  Elapsed: 1:41:46.\n",
      " Batch 1,300 of 4,105.  Elapsed: 1:50:13.\n",
      " Batch 1,400 of 4,105.  Elapsed: 1:58:36.\n",
      " Batch 1,500 of 4,105.  Elapsed: 2:07:02.\n",
      " Batch 1,600 of 4,105.  Elapsed: 2:15:32.\n",
      " Batch 1,700 of 4,105.  Elapsed: 2:23:58.\n",
      " Batch 1,800 of 4,105.  Elapsed: 2:32:18.\n",
      " Batch 1,900 of 4,105.  Elapsed: 2:40:34.\n",
      " Batch 2,000 of 4,105.  Elapsed: 2:48:49.\n",
      " Batch 2,100 of 4,105.  Elapsed: 2:57:03.\n",
      " Batch 2,200 of 4,105.  Elapsed: 3:05:29.\n",
      " Batch 2,300 of 4,105.  Elapsed: 3:13:54.\n",
      " Batch 2,400 of 4,105.  Elapsed: 3:22:22.\n",
      " Batch 2,500 of 4,105.  Elapsed: 3:30:51.\n",
      " Batch 2,600 of 4,105.  Elapsed: 3:39:13.\n",
      " Batch 2,700 of 4,105.  Elapsed: 3:47:34.\n",
      " Batch 2,800 of 4,105.  Elapsed: 3:55:49.\n",
      " Batch 2,900 of 4,105.  Elapsed: 4:04:01.\n",
      " Batch 3,000 of 4,105.  Elapsed: 4:12:16.\n",
      " Batch 3,100 of 4,105.  Elapsed: 4:20:22.\n",
      " Batch 3,200 of 4,105.  Elapsed: 4:28:31.\n",
      " Batch 3,300 of 4,105.  Elapsed: 4:36:47.\n",
      " Batch 3,400 of 4,105.  Elapsed: 4:45:06.\n",
      " Batch 3,500 of 4,105.  Elapsed: 4:53:23.\n",
      " Batch 3,600 of 4,105.  Elapsed: 5:01:41.\n",
      " Batch 3,700 of 4,105.  Elapsed: 5:09:57.\n",
      " Batch 3,800 of 4,105.  Elapsed: 5:18:15.\n",
      " Batch 3,900 of 4,105.  Elapsed: 5:26:21.\n",
      " Batch 4,000 of 4,105.  Elapsed: 5:34:35.\n",
      " Batch 4,100 of 4,105.  Elapsed: 5:42:54.\n",
      "\n",
      "Average Training Loss: 0.10\n",
      "Training Epoch took: 5:43:19\n",
      "\n",
      "Running Validation...\n",
      "Loss: 0.07\n",
      "Accuracy: 0.98\n",
      "Validation took: 0:23:39\n",
      "\n",
      "Training Complete!\n"
     ]
    }
   ],
   "source": [
    "\n",
    "\n",
    "# Set the seed value all over the place to make this reproducible\n",
    "seed_val = 42\n",
    "\n",
    "random.seed(seed_val)\n",
    "np.random.seed(seed_val)\n",
    "torch.manual_seed(seed_val)\n",
    "\n",
    "# Store the average loss after each epoch so we can plot them\n",
    "loss_values = []\n",
    "val_loss = []\n",
    "# For each epoch ...\n",
    "for epoch_i in range(0, epochs):\n",
    "    # ===============================\n",
    "    #            Training\n",
    "    # ===============================\n",
    "    # Perform one full pass over the training set\n",
    "    \n",
    "    print(\"\")\n",
    "    print('=======Epoch {:} / {:}======='.format(epoch_i + 1, epochs))\n",
    "    print('Training...')\n",
    "    \n",
    "    # Measure how long the training epoch takes\n",
    "    t0 = time.time()\n",
    "    \n",
    "    # Reset the total loss for this epoch\n",
    "    total_loss = 0\n",
    "    \n",
    "\n",
    "    model.train()\n",
    "    \n",
    "    # For each batch of training data...\n",
    "    for step, batch in enumerate(bert_train_dataloader):\n",
    "        \n",
    "        # Progress Update every 100 batches\n",
    "        if step % 100 == 0 and not step == 0:\n",
    "            # Calculate elapsed time in minutes\n",
    "            elapsed = format_time(time.time() - t0)\n",
    "            \n",
    "            # Report Progress\n",
    "            print(' Batch {:>5,} of {:5,}.  Elapsed: {:}.'.format(step, len(bert_train_dataloader), elapsed))\n",
    "            \n",
    "        # Unpack this training batch from our dataloader\n",
    "        # As we unpack the batch, we'll copy each tensor \n",
    "        # `batch` contains three pytorch tensors\n",
    "        # [0] : input ids\n",
    "        # [1] : attention masks\n",
    "        # [2] : labels\n",
    "        b_input_ids = batch[0]\n",
    "        b_input_mask = batch[1]\n",
    "        b_labels = batch[2]\n",
    "        \n",
    "        # Always clear any previously calculated gradients before performing a backward pass\n",
    "        # PyTorch doesn't do this automatically because\n",
    "        # accumulating the gradients is \"convenient while training RNNs\"\n",
    "        \n",
    "        model.zero_grad()\n",
    "        \n",
    "        # Perform a forward pass (evaluate the model on this training batch)\n",
    "        # In PyTorch, calling `model` will in turn call the model's \"forward\" function and pass down the arguments.\n",
    "        # The \"forward\" function is doccumented here:\n",
    "        # https://huggingface.co/transformers/main_classes/output.html#transformers.modeling_outputs.SequenceClassifierOutput\n",
    "        \n",
    "        result = model(b_input_ids,\n",
    "                      token_type_ids = None,\n",
    "                      attention_mask = b_input_mask,\n",
    "                      labels = b_labels,\n",
    "                      return_dict=True)\n",
    "        \n",
    "        loss = result.loss\n",
    "        \n",
    "        # Accumulate the training loss over all the batches so that we can calculate the average loss at the end.\n",
    "        # `loss` is a Tensor containing a single value;\n",
    "        # the `.item()` function just returns the Python Value from the tensor\n",
    "        total_loss += loss.item()\n",
    "        \n",
    "        # Perform a backward Pass to calculate the gradients\n",
    "        loss.backward()\n",
    "        \n",
    "        # Clip the norm of gradients to 1.0\n",
    "        # This is to help preventing the \"exploding gradients\" problem\n",
    "        torch.nn.utils.clip_grad_norm_(model.parameters(), 1.0)\n",
    "        \n",
    "        # Update Parameters and take a step using the computed gradient\n",
    "        # The optimizer dictate the \"update rule\" - how the parameters are modified based on their gradients, the learning rate etc.\n",
    "        bert_optimizer.step()\n",
    "        \n",
    "        # Update the learning rate\n",
    "        bert_scheduler.step()\n",
    "        \n",
    "    # Calculate the average loss over the training data \n",
    "    avg_train_loss = total_loss / len(bert_train_dataloader)\n",
    "    \n",
    "    # Store the loss value for plotting the learning curve\n",
    "    loss_values.append(avg_train_loss)\n",
    "    \n",
    "    print(\"\")\n",
    "    print(\"Average Training Loss: {0:.2f}\".format(avg_train_loss))\n",
    "    print(\"Training Epoch took: {:}\".format(format_time(time.time() - t0)))\n",
    "    \n",
    "    # ========================================\n",
    "    #                Validation\n",
    "    # ========================================\n",
    "    # After the completion of each training epoch, \n",
    "    # measure the performance on our validation dataset\n",
    "    \n",
    "    print(\"\")\n",
    "    print(\"Running Validation...\")\n",
    "    \n",
    "    t0 = time.time()\n",
    "    \n",
    "    # In evaluation mode -- dropout layers behave differently during evaluation\n",
    "    model.eval()\n",
    "    \n",
    "    # Tracking variables\n",
    "    eval_loss, eval_accuracy = 0, 0\n",
    "    nb_eval_steps, nb_eval_examples = 0, 0\n",
    "    \n",
    "    # Evaluate data for one epoch\n",
    "    for batch in bert_validation_dataloader:\n",
    "        \n",
    "        batch = tuple(t for t in batch)\n",
    "        \n",
    "        # Unpack the inputs from our dataloader\n",
    "        b_input_ids, b_input_mask, b_labels = batch\n",
    "        \n",
    "        # Telling the model not to compute or store gradients, \n",
    "        # saving memory and speeding up validation\n",
    "        \n",
    "        with torch.no_grad():\n",
    "            # Forward Pass, calculate logit predictions\n",
    "            # token_type_ids is the same as the \"segment ids\", \n",
    "            # which differentiates sentence 1 and 2 in 2-sentence tasks\n",
    "            result = model(b_input_ids,\n",
    "                          token_type_ids = None,\n",
    "                          attention_mask = b_input_mask,\n",
    "                          labels = b_labels,\n",
    "                          return_dict = True)\n",
    "        # Get the loss and \"logits\" by the output model. The \"logits\"\n",
    "        # are the output values prior to applying an activation function \n",
    "        # like the softmax\n",
    "        \n",
    "        loss = result.loss\n",
    "        logits = result.logits\n",
    "        \n",
    "        logits = logits.detach().numpy()\n",
    "        label_ids = b_labels.numpy()\n",
    "        \n",
    "        # Calculate the accuracy for this batch of test sentences\n",
    "        tmp_eval_accuracy = flat_accuracy(logits, label_ids)\n",
    "        \n",
    "        # Accumulate the total accuracy\n",
    "        eval_accuracy += tmp_eval_accuracy\n",
    "        \n",
    "        # Track the no of batches\n",
    "        nb_eval_steps += 1\n",
    "        \n",
    "        eval_loss += loss.item()\n",
    "        \n",
    "    avg_valid_loss = eval_loss / nb_eval_steps\n",
    "    val_loss.append(avg_valid_loss)\n",
    "    \n",
    "    # Report the final accuracy for this validation run\n",
    "    print(\"Loss: {0:.2f}\".format(eval_loss/len(bert_validation_dataloader)))\n",
    "    print(\"Accuracy: {0:.2f}\".format(eval_accuracy/nb_eval_steps))\n",
    "    print(\"Validation took: {:}\".format(format_time(time.time()- t0)))\n",
    "    \n",
    "print(\"\")\n",
    "print(\"Training Complete!\")"
   ]
  },
  {
   "cell_type": "code",
   "execution_count": 31,
   "metadata": {
    "execution": {
     "iopub.execute_input": "2023-03-22T10:33:24.808362Z",
     "iopub.status.busy": "2023-03-22T10:33:24.807964Z",
     "iopub.status.idle": "2023-03-22T10:33:25.095413Z",
     "shell.execute_reply": "2023-03-22T10:33:25.094252Z",
     "shell.execute_reply.started": "2023-03-22T10:33:24.808323Z"
    }
   },
   "outputs": [
    {
     "data": {
      "image/png": "[encoded data removed]",
      "text/plain": [
       "<Figure size 1200x600 with 1 Axes>"
      ]
     },
     "metadata": {},
     "output_type": "display_data"
    }
   ],
   "source": [
    "# Use plot styling from seaborn\n",
    "sns.set(style='darkgrid')\n",
    "\n",
    "# Increase the plot size and font size\n",
    "sns.set(font_scale=1.5)\n",
    "plt.rcParams[\"figure.figsize\"] = (12, 6)\n",
    "\n",
    "# Plot the learning curve\n",
    "plt.plot(loss_values, 'b-o')\n",
    "plt.plot(val_loss, 'c-o')\n",
    "\n",
    "# Label the plot\n",
    "plt.title(\"Training and Validation Loss\")\n",
    "plt.xlabel(\"Epoch\")\n",
    "plt.ylabel(\"Loss\")\n",
    "plt.gca().legend((\"Training\", \"Validation\"))\n",
    "\n",
    "plt.show()"
   ]
  },
  {
   "cell_type": "code",
   "execution_count": 32,
   "metadata": {
    "execution": {
     "iopub.execute_input": "2023-03-22T10:33:25.097189Z",
     "iopub.status.busy": "2023-03-22T10:33:25.096846Z",
     "iopub.status.idle": "2023-03-22T10:33:25.117035Z",
     "shell.execute_reply": "2023-03-22T10:33:25.116135Z",
     "shell.execute_reply.started": "2023-03-22T10:33:25.097160Z"
    }
   },
   "outputs": [
    {
     "data": {
      "text/html": [
       "<div>\n",
       "<style scoped>\n",
       "    .dataframe tbody tr th:only-of-type {\n",
       "        vertical-align: middle;\n",
       "    }\n",
       "\n",
       "    .dataframe tbody tr th {\n",
       "        vertical-align: top;\n",
       "    }\n",
       "\n",
       "    .dataframe thead th {\n",
       "        text-align: right;\n",
       "    }\n",
       "</style>\n",
       "<table border=\"1\" class=\"dataframe\">\n",
       "  <thead>\n",
       "    <tr style=\"text-align: right;\">\n",
       "      <th></th>\n",
       "      <th>title</th>\n",
       "      <th>text</th>\n",
       "      <th>subject</th>\n",
       "      <th>date</th>\n",
       "    </tr>\n",
       "  </thead>\n",
       "  <tbody>\n",
       "    <tr>\n",
       "      <th>2349</th>\n",
       "      <td>Dem AGs Respond To Trump Rolling Back Clean W...</td>\n",
       "      <td>Amateur president Donald Trump s hostility tow...</td>\n",
       "      <td>News</td>\n",
       "      <td>March 1, 2017</td>\n",
       "    </tr>\n",
       "    <tr>\n",
       "      <th>28439</th>\n",
       "      <td>Trump to nominate Goldman Sachs' Donovan as de...</td>\n",
       "      <td>WASHINGTON (Reuters) - U.S. President Donald T...</td>\n",
       "      <td>politicsNews</td>\n",
       "      <td>March 15, 2017</td>\n",
       "    </tr>\n",
       "    <tr>\n",
       "      <th>40824</th>\n",
       "      <td>Iraqi forces to regain Kurdish oilfields to re...</td>\n",
       "      <td>BAGHDAD (Reuters) - Iraq will deploy troops to...</td>\n",
       "      <td>worldnews</td>\n",
       "      <td>October 16, 2017</td>\n",
       "    </tr>\n",
       "    <tr>\n",
       "      <th>38647</th>\n",
       "      <td>Britain agrees to set EU 'Exit Day' in law</td>\n",
       "      <td>LONDON (Reuters) - Britain s government said o...</td>\n",
       "      <td>worldnews</td>\n",
       "      <td>November 9, 2017</td>\n",
       "    </tr>\n",
       "    <tr>\n",
       "      <th>36</th>\n",
       "      <td>Republican National Committee: Better A Pedop...</td>\n",
       "      <td>By now, the whole world knows that Alabama Sen...</td>\n",
       "      <td>News</td>\n",
       "      <td>December 5, 2017</td>\n",
       "    </tr>\n",
       "    <tr>\n",
       "      <th>...</th>\n",
       "      <td>...</td>\n",
       "      <td>...</td>\n",
       "      <td>...</td>\n",
       "      <td>...</td>\n",
       "    </tr>\n",
       "    <tr>\n",
       "      <th>3883</th>\n",
       "      <td>Trump Supporter Pulls Gun On Man Because He R...</td>\n",
       "      <td>Of course, this happened in Florida.After repo...</td>\n",
       "      <td>News</td>\n",
       "      <td>November 8, 2016</td>\n",
       "    </tr>\n",
       "    <tr>\n",
       "      <th>11860</th>\n",
       "      <td>OUTSTANDING! WATCH Lee Greenwood Sing ‘God Ble...</td>\n",
       "      <td></td>\n",
       "      <td>politics</td>\n",
       "      <td>Jan 19, 2017</td>\n",
       "    </tr>\n",
       "    <tr>\n",
       "      <th>18689</th>\n",
       "      <td>STEPHEN COLBERT’S RESPONSE To His Vulgar Remar...</td>\n",
       "      <td>Johnny Carson must be rolling over in his grav...</td>\n",
       "      <td>left-news</td>\n",
       "      <td>May 4, 2017</td>\n",
       "    </tr>\n",
       "    <tr>\n",
       "      <th>6417</th>\n",
       "      <td>WATCH: North Carolina Governor Wants To Kill ...</td>\n",
       "      <td>In 2013, conservatives used their 5-4 majority...</td>\n",
       "      <td>News</td>\n",
       "      <td>May 12, 2016</td>\n",
       "    </tr>\n",
       "    <tr>\n",
       "      <th>25766</th>\n",
       "      <td>U.S. Justice Department not looking to charge ...</td>\n",
       "      <td>WASHINGTON (Reuters) - One of the top official...</td>\n",
       "      <td>politicsNews</td>\n",
       "      <td>August 6, 2017</td>\n",
       "    </tr>\n",
       "  </tbody>\n",
       "</table>\n",
       "<p>8980 rows × 4 columns</p>\n",
       "</div>"
      ],
      "text/plain": [
       "                                                   title  \\\n",
       "2349    Dem AGs Respond To Trump Rolling Back Clean W...   \n",
       "28439  Trump to nominate Goldman Sachs' Donovan as de...   \n",
       "40824  Iraqi forces to regain Kurdish oilfields to re...   \n",
       "38647         Britain agrees to set EU 'Exit Day' in law   \n",
       "36      Republican National Committee: Better A Pedop...   \n",
       "...                                                  ...   \n",
       "3883    Trump Supporter Pulls Gun On Man Because He R...   \n",
       "11860  OUTSTANDING! WATCH Lee Greenwood Sing ‘God Ble...   \n",
       "18689  STEPHEN COLBERT’S RESPONSE To His Vulgar Remar...   \n",
       "6417    WATCH: North Carolina Governor Wants To Kill ...   \n",
       "25766  U.S. Justice Department not looking to charge ...   \n",
       "\n",
       "                                                    text       subject  \\\n",
       "2349   Amateur president Donald Trump s hostility tow...          News   \n",
       "28439  WASHINGTON (Reuters) - U.S. President Donald T...  politicsNews   \n",
       "40824  BAGHDAD (Reuters) - Iraq will deploy troops to...     worldnews   \n",
       "38647  LONDON (Reuters) - Britain s government said o...     worldnews   \n",
       "36     By now, the whole world knows that Alabama Sen...          News   \n",
       "...                                                  ...           ...   \n",
       "3883   Of course, this happened in Florida.After repo...          News   \n",
       "11860                                                         politics   \n",
       "18689  Johnny Carson must be rolling over in his grav...     left-news   \n",
       "6417   In 2013, conservatives used their 5-4 majority...          News   \n",
       "25766  WASHINGTON (Reuters) - One of the top official...  politicsNews   \n",
       "\n",
       "                    date  \n",
       "2349       March 1, 2017  \n",
       "28439    March 15, 2017   \n",
       "40824  October 16, 2017   \n",
       "38647  November 9, 2017   \n",
       "36      December 5, 2017  \n",
       "...                  ...  \n",
       "3883    November 8, 2016  \n",
       "11860       Jan 19, 2017  \n",
       "18689        May 4, 2017  \n",
       "6417        May 12, 2016  \n",
       "25766    August 6, 2017   \n",
       "\n",
       "[8980 rows x 4 columns]"
      ]
     },
     "execution_count": 32,
     "metadata": {},
     "output_type": "execute_result"
    }
   ],
   "source": [
    "df_test"
   ]
  },
  {
   "cell_type": "code",
   "execution_count": 33,
   "metadata": {
    "execution": {
     "iopub.execute_input": "2023-03-22T10:33:25.119928Z",
     "iopub.status.busy": "2023-03-22T10:33:25.119205Z",
     "iopub.status.idle": "2023-03-22T10:33:25.131640Z",
     "shell.execute_reply": "2023-03-22T10:33:25.130691Z",
     "shell.execute_reply.started": "2023-03-22T10:33:25.119889Z"
    }
   },
   "outputs": [
    {
     "data": {
      "text/plain": [
       "0"
      ]
     },
     "execution_count": 33,
     "metadata": {},
     "output_type": "execute_result"
    }
   ],
   "source": [
    "df_test.isnull().sum().sum()"
   ]
  },
  {
   "cell_type": "code",
   "execution_count": 34,
   "metadata": {
    "execution": {
     "iopub.execute_input": "2023-03-22T10:33:25.134056Z",
     "iopub.status.busy": "2023-03-22T10:33:25.133604Z",
     "iopub.status.idle": "2023-03-22T10:33:25.141441Z",
     "shell.execute_reply": "2023-03-22T10:33:25.140431Z",
     "shell.execute_reply.started": "2023-03-22T10:33:25.133999Z"
    }
   },
   "outputs": [],
   "source": [
    "df_test['final'] = df_test['title']"
   ]
  },
  {
   "cell_type": "code",
   "execution_count": 35,
   "metadata": {
    "execution": {
     "iopub.execute_input": "2023-03-22T10:33:25.143723Z",
     "iopub.status.busy": "2023-03-22T10:33:25.143007Z",
     "iopub.status.idle": "2023-03-22T10:33:25.149795Z",
     "shell.execute_reply": "2023-03-22T10:33:25.148742Z",
     "shell.execute_reply.started": "2023-03-22T10:33:25.143686Z"
    }
   },
   "outputs": [],
   "source": [
    "test_statements = df_test['final']"
   ]
  },
  {
   "cell_type": "code",
   "execution_count": 36,
   "metadata": {
    "execution": {
     "iopub.execute_input": "2023-03-22T10:33:25.151737Z",
     "iopub.status.busy": "2023-03-22T10:33:25.151174Z",
     "iopub.status.idle": "2023-03-22T10:33:25.159341Z",
     "shell.execute_reply": "2023-03-22T10:33:25.158315Z",
     "shell.execute_reply.started": "2023-03-22T10:33:25.151700Z"
    }
   },
   "outputs": [],
   "source": [
    "test_comments = y_test"
   ]
  },
  {
   "cell_type": "code",
   "execution_count": 37,
   "metadata": {
    "execution": {
     "iopub.execute_input": "2023-03-22T10:33:25.160887Z",
     "iopub.status.busy": "2023-03-22T10:33:25.160615Z",
     "iopub.status.idle": "2023-03-22T10:33:25.172573Z",
     "shell.execute_reply": "2023-03-22T10:33:25.171448Z",
     "shell.execute_reply.started": "2023-03-22T10:33:25.160848Z"
    }
   },
   "outputs": [
    {
     "data": {
      "text/plain": [
       "array([1, 0, 0, ..., 1, 1, 0])"
      ]
     },
     "execution_count": 37,
     "metadata": {},
     "output_type": "execute_result"
    }
   ],
   "source": [
    "test_comments.values"
   ]
  },
  {
   "cell_type": "code",
   "execution_count": 38,
   "metadata": {
    "execution": {
     "iopub.execute_input": "2023-03-22T10:33:25.174604Z",
     "iopub.status.busy": "2023-03-22T10:33:25.173754Z",
     "iopub.status.idle": "2023-03-22T10:33:25.673929Z",
     "shell.execute_reply": "2023-03-22T10:33:25.672697Z",
     "shell.execute_reply.started": "2023-03-22T10:33:25.174568Z"
    }
   },
   "outputs": [
    {
     "name": "stdout",
     "output_type": "stream",
     "text": [
      "\n",
      "Padding/truncating all sentences to 128 values...\n",
      "\n",
      "Padding token: \"[PAD]\", ID: 0\n",
      "\n",
      "Done.\n"
     ]
    }
   ],
   "source": [
    "# Set the required sentence length\n",
    "MAX_LEN = 128\n",
    "\n",
    "print('\\nPadding/truncating all sentences to %d values...' % MAX_LEN)\n",
    "\n",
    "print('\\nPadding token: \"{:}\", ID: {:}'.format(tokenizer.pad_token, tokenizer.pad_token_id))\n",
    "\n",
    "# Pad our input tokens with value 0\n",
    "bert_input_ids = pad_sequences(bert_input_ids, maxlen=MAX_LEN, dtype=\"long\", value=0, truncating=\"post\", padding=\"post\")\n",
    "\n",
    "print('\\nDone.')"
   ]
  },
  {
   "cell_type": "code",
   "execution_count": 39,
   "metadata": {
    "execution": {
     "iopub.execute_input": "2023-03-22T10:33:25.676110Z",
     "iopub.status.busy": "2023-03-22T10:33:25.675729Z",
     "iopub.status.idle": "2023-03-22T10:33:30.992351Z",
     "shell.execute_reply": "2023-03-22T10:33:30.991343Z",
     "shell.execute_reply.started": "2023-03-22T10:33:25.676069Z"
    }
   },
   "outputs": [
    {
     "name": "stdout",
     "output_type": "stream",
     "text": [
      "DONE\n",
      "\n",
      "     8,980 test comments\n",
      "     4,696 positive (contains attack)\n",
      "     4,284 negative (not an attack)\n"
     ]
    }
   ],
   "source": [
    "# Tokenize all of the sentences and map the tokens to their word IDs\n",
    "test_input_ids = []\n",
    "\n",
    "# For every sentence...\n",
    "for sent in test_statements:\n",
    "    # Report Progress\n",
    "    if ((len(bert_input_ids) % 20000) == 0):\n",
    "        print('Read {:,} comments.'.format(len(bert_input_ids)))\n",
    "        \n",
    "    \n",
    "    encoded_sent = tokenizer.encode(sent, # Sentence to encode\n",
    "                                    add_special_tokens = True, # Add '[CLS]' and '[SEP]'\n",
    "                                    max_length = MAX_LEN #Truncate All sentences\n",
    "                                   )\n",
    "    \n",
    "    # Add the encoded sentence to the list\n",
    "    test_input_ids.append(encoded_sent)\n",
    "    \n",
    "print('DONE')\n",
    "print('')\n",
    "print('{:>10,} test comments'.format(len(test_input_ids)))\n",
    "\n",
    "# Also retrieve the labels as a list\n",
    "\n",
    "# Get the labels from DataFrame and convert booleans to ints\n",
    "\n",
    "\n",
    "print('{:>10,} positive (contains attack)'.format(np.sum(test_comments)))\n",
    "print('{:>10,} negative (not an attack)'.format(len(test_comments)- np.sum(test_comments)))\n",
    "\n",
    "# Pad our input tokens\n",
    "test_input_ids = pad_sequences(test_input_ids, maxlen=MAX_LEN, dtype=\"long\", truncating=\"post\", padding=\"post\")\n",
    "\n",
    "# Create attention masks\n",
    "test_attention_masks = []\n",
    "\n",
    "# Create a mask of 1s for each token followed by 0s for padding\n",
    "for seq in test_input_ids:\n",
    "    seq_mask = [float(i>0) for i in seq]\n",
    "    test_attention_masks.append(seq_mask)\n",
    "    \n",
    "# Convert to tensors\n",
    "test_inputs = torch.tensor(test_input_ids)\n",
    "test_masks = torch.tensor(test_attention_masks)\n",
    "test_labels = torch.tensor(test_comments.values)\n",
    "\n",
    "# Set the batch size\n",
    "batch_size = 32\n",
    "\n",
    "# Create the DataLoader\n",
    "test_data = TensorDataset(test_inputs, test_masks, test_labels)\n",
    "test_sampler = SequentialSampler(test_data)\n",
    "test_dataloader = DataLoader(test_data, sampler=test_sampler, batch_size=batch_size)"
   ]
  },
  {
   "cell_type": "markdown",
   "metadata": {},
   "source": [
    "<div style=\"border-radius:10px; border:#DEB887 solid; padding: 15px; background-color: #FFFAF0; font-size:100%; text-align:left\">\n",
    "\n",
    "<h3 align=\"left\"><font color='#DEB887'>💡 Notes:</font></h3>\n",
    "\n",
    "* Based on the informations above, we can see there are:\n",
    "* 8,980 test comments; 4,696 positive and 4,284 negative"
   ]
  },
  {
   "cell_type": "markdown",
   "metadata": {},
   "source": [
    "#### <p style=\"font-family:JetBrains Mono; font-weight:bold; letter-spacing: 2px; color:#006600; font-size:140%; text-align:left;padding: 0px; border-bottom: 3px solid #003300\"> Testing the Model</p>"
   ]
  },
  {
   "cell_type": "code",
   "execution_count": 40,
   "metadata": {
    "execution": {
     "iopub.execute_input": "2023-03-22T10:33:30.994530Z",
     "iopub.status.busy": "2023-03-22T10:33:30.994125Z",
     "iopub.status.idle": "2023-03-22T10:33:43.934152Z",
     "shell.execute_reply": "2023-03-22T10:33:43.933050Z",
     "shell.execute_reply.started": "2023-03-22T10:33:30.994492Z"
    }
   },
   "outputs": [
    {
     "name": "stdout",
     "output_type": "stream",
     "text": [
      "Predicting labels for 8,980 test sentences...\n",
      " Batch   100 of   281. Elapsed: 0:00:00\n",
      " Batch   200 of   281. Elapsed: 0:00:06\n",
      "    Done.    \n"
     ]
    }
   ],
   "source": [
    "# Prediction on test set\n",
    "print('Predicting labels for {:,} test sentences...'.format(len(test_inputs)))\n",
    "\n",
    "# Put model in evaluation mode\n",
    "model.eval()\n",
    "\n",
    "# Tracking Variables\n",
    "predictions, true_labels = [], []\n",
    "\n",
    "# Measure elapsed time\n",
    "t0 = time.time()\n",
    "\n",
    "# Predict\n",
    "for (step, batch) in enumerate(test_dataloader):\n",
    "    \n",
    "    batch = tuple(t for t in batch)\n",
    "    \n",
    "    # Progress Update every 100 batches\n",
    "    if step % 100 == 0 and not step == 0:\n",
    "        # Calculate elased time in minutes\n",
    "        elapsed = format_time(time.time() - t0)\n",
    "        \n",
    "        # Report Progress\n",
    "        print(' Batch {:>5,} of {:>5,}. Elapsed: {:}'.format(step, len(test_dataloader), elapsed))\n",
    "        \n",
    "        # Unpack the inputs from DataLoader\n",
    "        b_input_ids, b_input_mask, b_labels = batch\n",
    "        \n",
    "        # Telling the model not to compute or store gradients,\n",
    "        # saving memory and speeding up prediction\n",
    "        with torch.no_grad():\n",
    "            # Forward Pass, calculate logit predictions\n",
    "            result = model(b_input_ids, \n",
    "                          token_type_ids=None,\n",
    "                          attention_mask=b_input_mask,\n",
    "                          return_dict=True)\n",
    "            \n",
    "        logits = result.logits\n",
    "        \n",
    "        logits = logits.detach().numpy()\n",
    "        label_ids = b_labels.numpy()\n",
    "        \n",
    "        # Store Predictions and True Labels\n",
    "        predictions.append(logits)\n",
    "        true_labels.append(label_ids)\n",
    "        \n",
    "print('    Done.    ')"
   ]
  },
  {
   "cell_type": "code",
   "execution_count": 41,
   "metadata": {
    "execution": {
     "iopub.execute_input": "2023-03-22T10:33:43.937559Z",
     "iopub.status.busy": "2023-03-22T10:33:43.935547Z",
     "iopub.status.idle": "2023-03-22T10:33:43.943241Z",
     "shell.execute_reply": "2023-03-22T10:33:43.942095Z",
     "shell.execute_reply.started": "2023-03-22T10:33:43.937518Z"
    }
   },
   "outputs": [],
   "source": [
    "predictions = np.concatenate(predictions, axis=0)\n",
    "true_labels = np.concatenate(true_labels, axis=0)"
   ]
  },
  {
   "cell_type": "code",
   "execution_count": 42,
   "metadata": {
    "execution": {
     "iopub.execute_input": "2023-03-22T10:33:43.945465Z",
     "iopub.status.busy": "2023-03-22T10:33:43.945011Z",
     "iopub.status.idle": "2023-03-22T10:33:43.957199Z",
     "shell.execute_reply": "2023-03-22T10:33:43.955993Z",
     "shell.execute_reply.started": "2023-03-22T10:33:43.945428Z"
    }
   },
   "outputs": [
    {
     "name": "stdout",
     "output_type": "stream",
     "text": [
      "Test ROC AUC: 1.000000\n"
     ]
    }
   ],
   "source": [
    "# Use the model output for label 1 as our predictions\n",
    "p1 = predictions[:, 1]\n",
    "\n",
    "# Calculate the ROC, AUC\n",
    "auc = roc_auc_score(true_labels, p1)\n",
    "\n",
    "print('Test ROC AUC: %3f' %auc)"
   ]
  },
  {
   "cell_type": "code",
   "execution_count": 43,
   "metadata": {
    "execution": {
     "iopub.execute_input": "2023-03-22T10:33:43.960009Z",
     "iopub.status.busy": "2023-03-22T10:33:43.959142Z",
     "iopub.status.idle": "2023-03-22T10:33:44.521261Z",
     "shell.execute_reply": "2023-03-22T10:33:44.520245Z",
     "shell.execute_reply.started": "2023-03-22T10:33:43.959970Z"
    }
   },
   "outputs": [
    {
     "data": {
      "image/png": "[encoded data removed]",
      "text/plain": [
       "<Figure size 1200x600 with 1 Axes>"
      ]
     },
     "metadata": {},
     "output_type": "display_data"
    }
   ],
   "source": [
    "fpr, tpr, _ = metrics.roc_curve(true_labels, p1)\n",
    "sns.lineplot(x=fpr, y=tpr, linestyle='--')\n",
    "plt.xlabel(\"False Positive Rate\")\n",
    "plt.ylabel(\"True Positive Rate\")\n",
    "plt.show()"
   ]
  },
  {
   "cell_type": "code",
   "execution_count": 44,
   "metadata": {
    "execution": {
     "iopub.execute_input": "2023-03-22T10:33:44.524078Z",
     "iopub.status.busy": "2023-03-22T10:33:44.522907Z",
     "iopub.status.idle": "2023-03-22T10:33:44.529196Z",
     "shell.execute_reply": "2023-03-22T10:33:44.527946Z",
     "shell.execute_reply.started": "2023-03-22T10:33:44.524036Z"
    }
   },
   "outputs": [],
   "source": [
    "predictions = np.argmax(predictions, axis=1).flatten()"
   ]
  },
  {
   "cell_type": "code",
   "execution_count": 45,
   "metadata": {
    "execution": {
     "iopub.execute_input": "2023-03-22T10:33:44.531970Z",
     "iopub.status.busy": "2023-03-22T10:33:44.530841Z",
     "iopub.status.idle": "2023-03-22T10:33:44.831499Z",
     "shell.execute_reply": "2023-03-22T10:33:44.830461Z",
     "shell.execute_reply.started": "2023-03-22T10:33:44.531931Z"
    }
   },
   "outputs": [
    {
     "data": {
      "image/png": "[encoded data removed]",
      "text/plain": [
       "<Figure size 1200x600 with 2 Axes>"
      ]
     },
     "metadata": {},
     "output_type": "display_data"
    }
   ],
   "source": [
    "mat = confusion_matrix(true_labels, predictions)\n",
    "ax = plt.subplot()\n",
    "sns.heatmap(mat, annot=True, fmt='g', ax=ax)\n",
    "ax.set_xlabel('Predicted Labels');ax.set_ylabel('True Labels');\n",
    "ax.set_title('Confusion Matrix');\n",
    "ax.xaxis.set_ticklabels(['Fake', 'True']);ax.yaxis.set_ticklabels(['Fake', 'True']);"
   ]
  },
  {
   "cell_type": "markdown",
   "metadata": {},
   "source": [
    "<div style=\"border-radius:10px; border:#DEB887 solid; padding: 15px; background-color: #FFFAF0; font-size:100%; text-align:left\">\n",
    "\n",
    "<h3 align=\"left\"><font color='#DEB887'>💡 Notes:</font></h3>\n",
    "\n",
    "* Based on confusion matrix above, we can see there is no false positive and false negative.\n",
    "    \n",
    "* So, model performs pretty well."
   ]
  },
  {
   "cell_type": "code",
   "execution_count": 46,
   "metadata": {
    "execution": {
     "iopub.execute_input": "2023-03-22T10:33:44.833704Z",
     "iopub.status.busy": "2023-03-22T10:33:44.833043Z",
     "iopub.status.idle": "2023-03-22T10:33:44.845167Z",
     "shell.execute_reply": "2023-03-22T10:33:44.844062Z",
     "shell.execute_reply.started": "2023-03-22T10:33:44.833665Z"
    }
   },
   "outputs": [
    {
     "name": "stdout",
     "output_type": "stream",
     "text": [
      "              precision    recall  f1-score   support\n",
      "\n",
      "           0       1.00      1.00      1.00        37\n",
      "           1       1.00      1.00      1.00        27\n",
      "\n",
      "    accuracy                           1.00        64\n",
      "   macro avg       1.00      1.00      1.00        64\n",
      "weighted avg       1.00      1.00      1.00        64\n",
      "\n"
     ]
    }
   ],
   "source": [
    "print(classification_report(true_labels, predictions))"
   ]
  },
  {
   "cell_type": "markdown",
   "metadata": {},
   "source": [
    "References:\n",
    "1. https://www.kaggle.com/code/kimtaehun/netflix-disney-content-data-visualization"
   ]
  }
 ],
 "metadata": {
  "kernelspec": {
   "display_name": "Python 3 (ipykernel)",
   "language": "python",
   "name": "python3"
  },
  "language_info": {
   "codemirror_mode": {
    "name": "ipython",
    "version": 3
   },
   "file_extension": ".py",
   "mimetype": "text/x-python",
   "name": "python",
   "nbconvert_exporter": "python",
   "pygments_lexer": "ipython3",
   "version": "3.9.12"
  }
 },
 "nbformat": 4,
 "nbformat_minor": 4
}
